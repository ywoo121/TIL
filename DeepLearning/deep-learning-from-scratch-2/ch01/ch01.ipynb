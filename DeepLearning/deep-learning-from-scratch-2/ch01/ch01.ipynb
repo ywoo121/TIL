{
 "cells": [
  {
   "metadata": {},
   "cell_type": "markdown",
   "source": [
    "## ch01. 신경망 복습\n",
    "##### 밑시딥1 내용 복습\n",
    "---\n",
    "### 1.1 수학과 신경망 복습\n",
    "#### 1.1.1 벡터와 행렬\n",
    "- 벡터: 크기와 방향을 가진 양 -> 파이썬에는 1차원 배열로 취급\n",
    "  + 행벡터(가로), 열벡터(세로)\n",
    "- 행렬: 숫자가 2차원 형태로 늘어선 것 -> 2차원 배열로\n"
   ],
   "id": "3eb59aac7ff3cefd"
  },
  {
   "metadata": {
    "ExecuteTime": {
     "end_time": "2024-12-08T07:25:08.951353Z",
     "start_time": "2024-12-08T07:25:08.948266Z"
    }
   },
   "cell_type": "code",
   "source": [
    "import numpy as np\n",
    "\n",
    "x = np.array([1, 2, 3])\n",
    "print(x.__class__)\n",
    "print(x.shape)\n",
    "print(x.ndim)\n",
    "\n",
    "W = np.array([[1, 2, 3], [4, 5, 6]])\n",
    "print(W.shape)\n",
    "print(W.ndim)"
   ],
   "id": "7a1b109712197013",
   "outputs": [
    {
     "name": "stdout",
     "output_type": "stream",
     "text": [
      "<class 'numpy.ndarray'>\n",
      "(3,)\n",
      "1\n",
      "(2, 3)\n",
      "2\n"
     ]
    }
   ],
   "execution_count": 3
  },
  {
   "metadata": {},
   "cell_type": "markdown",
   "source": [
    "#### 1.1.2 행렬의 원소별 연산\n",
    ": 다차원 배열들에서 서로 대응하는 원소끼리 연산이 이루어짐.\n"
   ],
   "id": "efa345034408658d"
  },
  {
   "metadata": {
    "ExecuteTime": {
     "end_time": "2024-12-08T07:27:12.871045Z",
     "start_time": "2024-12-08T07:27:12.866394Z"
    }
   },
   "cell_type": "code",
   "source": [
    "W = np.array([[1, 2, 3], [4, 5, 6]])\n",
    "X = np.array([[0, 1, 2], [3, 4, 5]])\n",
    "print(W + X)\n",
    "print(W * X)"
   ],
   "id": "de3e7abcaaa57238",
   "outputs": [
    {
     "name": "stdout",
     "output_type": "stream",
     "text": [
      "[[ 1  3  5]\n",
      " [ 7  9 11]]\n",
      "[[ 0  2  6]\n",
      " [12 20 30]]\n"
     ]
    }
   ],
   "execution_count": 4
  },
  {
   "metadata": {},
   "cell_type": "markdown",
   "source": [
    "#### 1.1.3 브로드캐스트\n",
    ": `넘파이`의 다차원 배열에서는 형상이 다른 배열끼리도 연산 가능"
   ],
   "id": "ccfb1c080c0e9349"
  },
  {
   "metadata": {
    "ExecuteTime": {
     "end_time": "2024-12-08T07:29:43.471544Z",
     "start_time": "2024-12-08T07:29:43.467232Z"
    }
   },
   "cell_type": "code",
   "source": [
    "A = np.array([[1, 2], [3, 4]])\n",
    "A * 10"
   ],
   "id": "207d1f30f3963827",
   "outputs": [
    {
     "data": {
      "text/plain": [
       "array([[10, 20],\n",
       "       [30, 40]])"
      ]
     },
     "execution_count": 6,
     "metadata": {},
     "output_type": "execute_result"
    }
   ],
   "execution_count": 6
  },
  {
   "metadata": {
    "ExecuteTime": {
     "end_time": "2024-12-08T07:30:21.278452Z",
     "start_time": "2024-12-08T07:30:21.272285Z"
    }
   },
   "cell_type": "code",
   "source": [
    "A = np.array([[1, 2], [3, 4]])\n",
    "b = np.array([10, 20])\n",
    "A * b"
   ],
   "id": "4dffd784e1aecc8c",
   "outputs": [
    {
     "data": {
      "text/plain": [
       "array([[10, 40],\n",
       "       [30, 80]])"
      ]
     },
     "execution_count": 8,
     "metadata": {},
     "output_type": "execute_result"
    }
   ],
   "execution_count": 8
  }
 ],
 "metadata": {
  "kernelspec": {
   "display_name": "Python 3",
   "language": "python",
   "name": "python3"
  },
  "language_info": {
   "codemirror_mode": {
    "name": "ipython",
    "version": 2
   },
   "file_extension": ".py",
   "mimetype": "text/x-python",
   "name": "python",
   "nbconvert_exporter": "python",
   "pygments_lexer": "ipython2",
   "version": "2.7.6"
  }
 },
 "nbformat": 4,
 "nbformat_minor": 5
}
