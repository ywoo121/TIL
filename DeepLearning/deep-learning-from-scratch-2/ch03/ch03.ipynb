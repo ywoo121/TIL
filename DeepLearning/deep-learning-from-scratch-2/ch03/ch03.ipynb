{
 "cells": [
  {
   "metadata": {},
   "cell_type": "markdown",
   "source": [
    "# ch03. word2vec\n",
    "'추론 기반 학습' : 추론 (word2vec)\n",
    "\n",
    "## 3.1 추론 기반 기법과 신경망\n",
    "단어를 벡터로 표현하는 방법\n",
    "- 통계 기반 기법\n",
    "- 추론 기반 기법\n",
    "\n",
    "### 3.1.1 통계 기반 기법의 문제점\n",
    "통계 기반 기법 : 주변 단어의 빈도를 기초로 단어 표현\n",
    "- 단어의 동시 발생 행렬\n",
    "- 그 행렬에 SVD 적용\n",
    "- 밀집벡터 표현을 얻음\n",
    "- 하지만 이 방식은 대규모 말뭉치를 담을 때 문제 발생함\n",
    "\n",
    "![이미지 설명](ch02/img/2-3.png)\n",
    "\n",
    "\n"
   ],
   "id": "21b85637c3ab1ef6"
  },
  {
   "metadata": {},
   "cell_type": "markdown",
   "source": "",
   "id": "e2a18c14a1bface9"
  }
 ],
 "metadata": {
  "kernelspec": {
   "display_name": "Python 3",
   "language": "python",
   "name": "python3"
  },
  "language_info": {
   "codemirror_mode": {
    "name": "ipython",
    "version": 2
   },
   "file_extension": ".py",
   "mimetype": "text/x-python",
   "name": "python",
   "nbconvert_exporter": "python",
   "pygments_lexer": "ipython2",
   "version": "2.7.6"
  }
 },
 "nbformat": 4,
 "nbformat_minor": 5
}
