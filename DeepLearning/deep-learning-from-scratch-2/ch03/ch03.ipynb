{
 "cells": [
  {
   "metadata": {},
   "cell_type": "markdown",
   "source": [
    "# ch03. word2vec\n",
    "'추론 기반 학습' : 추론 (word2vec)"
   ],
   "id": "21b85637c3ab1ef6"
  },
  {
   "metadata": {},
   "cell_type": "markdown",
   "source": "",
   "id": "e2a18c14a1bface9"
  }
 ],
 "metadata": {
  "kernelspec": {
   "display_name": "Python 3",
   "language": "python",
   "name": "python3"
  },
  "language_info": {
   "codemirror_mode": {
    "name": "ipython",
    "version": 2
   },
   "file_extension": ".py",
   "mimetype": "text/x-python",
   "name": "python",
   "nbconvert_exporter": "python",
   "pygments_lexer": "ipython2",
   "version": "2.7.6"
  }
 },
 "nbformat": 4,
 "nbformat_minor": 5
}
